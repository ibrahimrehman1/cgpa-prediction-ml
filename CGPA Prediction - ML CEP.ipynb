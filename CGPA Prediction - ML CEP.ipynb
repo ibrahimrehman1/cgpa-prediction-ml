{
 "cells": [
  {
   "cell_type": "markdown",
   "id": "d50b5a31",
   "metadata": {},
   "source": [
    "# Problem Description"
   ]
  },
  {
   "cell_type": "markdown",
   "id": "b05819f8",
   "metadata": {},
   "source": [
    "Develop a machine learning system to predict final CGPA of a student at the end of fourth year given GPs of the courses obtained in initial years (up to first, second or third year). \n",
    "\n",
    "Model 1: predict final CGPA based on GPs of first year only.\n",
    "\n",
    "\n",
    "Model 2: predict final CGPA based on GPs of first two years.\n",
    "\n",
    "\n",
    "Model 3: predict final CGPA based on GPs of first three years."
   ]
  },
  {
   "cell_type": "markdown",
   "id": "8c32e01d",
   "metadata": {},
   "source": [
    "## Import Libraries"
   ]
  },
  {
   "cell_type": "code",
   "execution_count": null,
   "id": "ce4e0288",
   "metadata": {},
   "outputs": [],
   "source": [
    "import numpy as np\n",
    "import pandas as pd\n",
    "import matplotlib.pyplot as plt\n",
    "import seaborn as sns\n",
    "\n",
    "from sklearn.model_selection import train_test_split\n",
    "from sklearn import linear_model\n",
    "from sklearn.ensemble import GradientBoostingRegressor\n",
    "from sklearn.tree import DecisionTreeRegressor\n",
    "from sklearn.neighbors import KNeighborsRegressor\n",
    "\n",
    "from math import ceil\n",
    "from tabulate import tabulate\n",
    "from sklearn.model_selection import learning_curve\n",
    "from sklearn.model_selection import ShuffleSplit\n",
    "\n",
    "import warnings\n",
    "warnings.filterwarnings('ignore')\n",
    "\n",
    "try:\n",
    "    from ipywidgets import widgets\n",
    "    from ipywidgets import Button, HBox, VBox\n",
    "except ModuleNotFoundError:\n",
    "    !pip install ipywidgets"
   ]
  },
  {
   "cell_type": "markdown",
   "id": "df31cc1a",
   "metadata": {},
   "source": [
    "## Load the Dataset"
   ]
  },
  {
   "cell_type": "code",
   "execution_count": null,
   "id": "e0670546",
   "metadata": {},
   "outputs": [],
   "source": [
    "# Reading the CSV file present in the Project Folder using Padas read_csv method\n",
    "\n",
    "df = pd.read_csv(\"The_Grades_Dataset.csv\")"
   ]
  },
  {
   "cell_type": "markdown",
   "id": "cef4c4d9",
   "metadata": {},
   "source": [
    "## Exploratory Data Analysis"
   ]
  },
  {
   "cell_type": "code",
   "execution_count": null,
   "id": "cd800bea",
   "metadata": {},
   "outputs": [],
   "source": [
    "rows, columns = df.shape\n",
    "print(f\"The given dataset contains {rows} rows and {columns} columns\")"
   ]
  },
  {
   "cell_type": "code",
   "execution_count": null,
   "id": "559ee62d",
   "metadata": {},
   "outputs": [],
   "source": [
    "# Examining first 10 rows\n",
    "df.head(10)"
   ]
  },
  {
   "cell_type": "code",
   "execution_count": null,
   "id": "06999e74",
   "metadata": {},
   "outputs": [],
   "source": [
    "# Examining last 10 rows\n",
    "df.tail(10)"
   ]
  },
  {
   "cell_type": "code",
   "execution_count": null,
   "id": "500727d7",
   "metadata": {},
   "outputs": [],
   "source": [
    "# The only numerical variable present is CGPA\n",
    "\n",
    "df.describe()"
   ]
  },
  {
   "cell_type": "code",
   "execution_count": null,
   "id": "bae46fea",
   "metadata": {
    "scrolled": true
   },
   "outputs": [],
   "source": [
    "# 42 Categorical Variables with some null values\n",
    "df.info()"
   ]
  },
  {
   "cell_type": "code",
   "execution_count": null,
   "id": "6dbf9898",
   "metadata": {
    "scrolled": true
   },
   "outputs": [],
   "source": [
    "# Checking the Unique Values of Each Column\n",
    "df.apply(pd.Series.unique)"
   ]
  },
  {
   "cell_type": "code",
   "execution_count": null,
   "id": "ceeb949b",
   "metadata": {},
   "outputs": [],
   "source": [
    "# Example Row\n",
    "df.apply(pd.Series.unique).values[18]"
   ]
  },
  {
   "cell_type": "markdown",
   "id": "de0a62a2",
   "metadata": {},
   "source": [
    "### Unique Values\n",
    "\n",
    "The most repeated unique grades are,\n",
    "\n",
    "    A+, A, A-, B+, B, B-, C+, C, C-, D+, D , F \n",
    "\n",
    "Grade W stands for Withdrawal \\\n",
    "Grade WU stands for Withdrawal Unauthorized \\\n",
    "Grade I stands for Incomplete "
   ]
  },
  {
   "cell_type": "markdown",
   "id": "0e7779b3",
   "metadata": {},
   "source": [
    "**Withdrawal (W)** \\\n",
    "A withdrawal from a class (W) is GPA-neutral: instead of a grade, you receive a W notation on your transcript which does not affect your GPA; you also don't earn credits for the course.\n",
    "\n",
    "**Withdrawal Unauthorized (WU)** \\\n",
    "A withdrawal from a class (W) is not GPA-neutral, for purposes of grade point average and progress point computation this symbol is equivalent to an \"F\".\n",
    "\n",
    "**Incomplete Grade (I)** \\\n",
    "An Incomplete grade, in the GPA computations, has the same effect as a grade F."
   ]
  },
  {
   "cell_type": "markdown",
   "id": "97d051da",
   "metadata": {},
   "source": [
    "### Missing Values\n",
    "\n",
    "We assume that the missing values indicate that the student hasn't taken that specific course, but if there are too many missing values we will have to drop it as it is an outlier and will affect model performance"
   ]
  },
  {
   "cell_type": "code",
   "execution_count": null,
   "id": "68f212ad",
   "metadata": {
    "scrolled": true
   },
   "outputs": [],
   "source": [
    "# Checking missing values with respect to each row\n",
    "\n",
    "for index, i in enumerate(df.isnull().sum(axis=1).to_list()):\n",
    "    if i:\n",
    "        print(index,\": \",i)"
   ]
  },
  {
   "cell_type": "markdown",
   "id": "66e21a7d",
   "metadata": {},
   "source": [
    "### Irrelevant Values\n",
    "\n",
    "Seat No. is different for each student and does not contribute in predicting the CGPA.\n",
    "Courses starting with 4 are Final year courses and we have to predict GPA based on GPs of first three years or two years or first year only, hence they will not be used and we will simply drop them."
   ]
  },
  {
   "cell_type": "code",
   "execution_count": null,
   "id": "07959705",
   "metadata": {},
   "outputs": [],
   "source": [
    "print(df.columns)"
   ]
  },
  {
   "cell_type": "markdown",
   "id": "06a26ff8",
   "metadata": {},
   "source": [
    "## Data Preprocessing"
   ]
  },
  {
   "cell_type": "markdown",
   "id": "532b91c7",
   "metadata": {},
   "source": [
    "### Steps\n",
    "\n",
    "1. Drop columns Seat No, CS-403, CS-421, CS-406, CS-414, CS-419, CS-423, CS-412\n",
    "2. Fill all missing values with 0.\n",
    "3. Replace Grade W and Grade I with Grade F to make encoding simpler.\n",
    "4. Encode all the grades"
   ]
  },
  {
   "cell_type": "markdown",
   "id": "9831dd11",
   "metadata": {},
   "source": [
    "#### Drop Irrelevant Features"
   ]
  },
  {
   "cell_type": "code",
   "execution_count": null,
   "id": "5e9a2097",
   "metadata": {},
   "outputs": [],
   "source": [
    "# Seat_No. has no effect on CGPA so we will drop it\n",
    "# Also the grades of fourth year will not be used by model\n",
    "\n",
    "df = df.drop([\"Seat No.\", \"CS-403\", \"CS-421\", \"CS-406\", \"CS-414\", \"CS-419\", \"CS-423\", \"CS-412\"], axis=1)"
   ]
  },
  {
   "cell_type": "markdown",
   "id": "b0663b8b",
   "metadata": {},
   "source": [
    "#### Handle Missing Values"
   ]
  },
  {
   "cell_type": "code",
   "execution_count": null,
   "id": "a129b272",
   "metadata": {},
   "outputs": [],
   "source": [
    "# We can drop the row if there are too many misisng values\n",
    "# Lets set are threshold to 23\n",
    "\n",
    "df = df.drop(df[df.isnull().sum(axis=1) >= 23].index)\n",
    "\n",
    "# Now the remaining null values are filled by 0, assuming the student hasn't opted for that course yet\n",
    "# Setting to 0 to show that this grade won't affect the final CGPA\n",
    "\n",
    "df = df.fillna(0)"
   ]
  },
  {
   "cell_type": "code",
   "execution_count": null,
   "id": "2abbfef3",
   "metadata": {},
   "outputs": [],
   "source": [
    "# All columnns have 566 not-null values\n",
    "\n",
    "df.info()"
   ]
  },
  {
   "cell_type": "markdown",
   "id": "6041fc55",
   "metadata": {},
   "source": [
    "#### Encoding Variables"
   ]
  },
  {
   "cell_type": "code",
   "execution_count": null,
   "id": "a3351bc9",
   "metadata": {},
   "outputs": [],
   "source": [
    "# Replace WU and I with F Replace W with 0 (No effect on gpa)\n",
    "df = df.replace({\"WU\":\"F\",\n",
    "                 \"I\":\"F\",\n",
    "                 \"W\":\"0\"})"
   ]
  },
  {
   "cell_type": "code",
   "execution_count": null,
   "id": "72ce5414",
   "metadata": {},
   "outputs": [],
   "source": [
    "# Checking the Data again\n",
    "df.apply(pd.Series.unique)"
   ]
  },
  {
   "attachments": {
    "image.png": {
     "image/png": "[encoded data removed]"
    }
   },
   "cell_type": "markdown",
   "id": "ee85e784",
   "metadata": {},
   "source": [
    "![image.png](attachment:image.png)"
   ]
  },
  {
   "cell_type": "markdown",
   "id": "9174d37f",
   "metadata": {},
   "source": [
    "Now we will encode the grades with respect to grade points\n",
    "We have given the weight of 0 to the null values, thus we will give a weight of 1 for F and and other grades in accordance to it."
   ]
  },
  {
   "cell_type": "code",
   "execution_count": null,
   "id": "51161e26",
   "metadata": {},
   "outputs": [],
   "source": [
    "grade_points = {\"F\":  1.0,\n",
    "                \"D\":  2.0,\n",
    "                \"D+\": 2.4,\n",
    "                \"C-\": 2.7,\n",
    "                \"C\":  3.0,\n",
    "                \"C+\": 3.4,\n",
    "                \"B-\": 3.7,\n",
    "                \"B\":  4.0,\n",
    "                \"B+\": 4.4,\n",
    "                \"A-\": 4.7,\n",
    "                \"A\":  5.0,\n",
    "                \"A+\": 5.0 }"
   ]
  },
  {
   "cell_type": "code",
   "execution_count": null,
   "id": "7c306e43",
   "metadata": {},
   "outputs": [],
   "source": [
    "# Encoding all the Grades to their respective weights\n",
    "\n",
    "df = df.replace(grade_points)"
   ]
  },
  {
   "cell_type": "code",
   "execution_count": null,
   "id": "d469ce54",
   "metadata": {},
   "outputs": [],
   "source": [
    "df.head()"
   ]
  },
  {
   "cell_type": "markdown",
   "id": "81531965",
   "metadata": {},
   "source": [
    "### Correlation Matrix"
   ]
  },
  {
   "cell_type": "code",
   "execution_count": null,
   "id": "e95d8c9c",
   "metadata": {},
   "outputs": [],
   "source": [
    "# GETTING a Correllation matrix\n",
    "corr_mat=df.corr(method='pearson')\n",
    "plt.figure(figsize=(20,10))\n",
    "sns.heatmap(corr_mat,vmax=1,square=True,annot=True,cmap='cubehelix')"
   ]
  },
  {
   "cell_type": "markdown",
   "id": "576c3235",
   "metadata": {},
   "source": [
    "### Encoding Function"
   ]
  },
  {
   "cell_type": "code",
   "execution_count": null,
   "id": "0d580256",
   "metadata": {},
   "outputs": [],
   "source": [
    "# We have written an encoding function to encode any new data\n",
    "\n",
    "def encode_data(input_df):\n",
    "    \"\"\"\n",
    "    Input: PandasDataFrame\n",
    "    \n",
    "        Encode the gradepoints for model training\n",
    "        \n",
    "    Returns: PandasDataFrame\n",
    "    \"\"\"\n",
    "    df = input_df.fillna(0)\n",
    "    df = df.replace({\"WU\":\"F\",\n",
    "                     \"I\":\"F\",\n",
    "                     \"W\":\"0\"})\n",
    "    \n",
    "    grade_points = {\"F\":  1.0,\n",
    "                \"D\":  2.0,\n",
    "                \"D+\": 2.4,\n",
    "                \"C-\": 2.7,\n",
    "                \"C\":  3.0,\n",
    "                \"C+\": 3.4,\n",
    "                \"B-\": 3.7,\n",
    "                \"B\":  4.0,\n",
    "                \"B+\": 4.4,\n",
    "                \"A-\": 4.7,\n",
    "                \"A\":  5.0,\n",
    "                \"A+\": 5.0 }\n",
    "    \n",
    "    df = df.replace(grade_points)\n",
    "    \n",
    "    return df"
   ]
  },
  {
   "cell_type": "markdown",
   "id": "3ad24939",
   "metadata": {},
   "source": [
    "## Model Training"
   ]
  },
  {
   "cell_type": "markdown",
   "id": "99fd2556",
   "metadata": {},
   "source": [
    "#### Input Features and Target Variable"
   ]
  },
  {
   "cell_type": "code",
   "execution_count": null,
   "id": "f054500e",
   "metadata": {},
   "outputs": [],
   "source": [
    "X = df.drop(\"CGPA\", axis=1)\n",
    "y = df[['CGPA']]"
   ]
  },
  {
   "cell_type": "markdown",
   "id": "d2afa354",
   "metadata": {},
   "source": [
    "#### Splitting the Dataset"
   ]
  },
  {
   "cell_type": "code",
   "execution_count": null,
   "id": "45bc9b0c",
   "metadata": {},
   "outputs": [],
   "source": [
    "X_train, X_test, y_train, y_test = train_test_split(X, y, test_size=0.2, random_state=0)"
   ]
  },
  {
   "cell_type": "markdown",
   "id": "5551cb42",
   "metadata": {},
   "source": [
    "#### Preparing Dataset for Model 1, Model 2 and Model 3"
   ]
  },
  {
   "cell_type": "code",
   "execution_count": null,
   "id": "1133a261",
   "metadata": {},
   "outputs": [],
   "source": [
    "columns = df.columns.to_list()\n",
    "first_year, first_two_years = [],[]\n",
    "for i in columns:\n",
    "    if i[3] == '1':\n",
    "        first_year.append(i)\n",
    "        first_two_years.append(i)\n",
    "    elif i[3] == '2':\n",
    "        first_two_years.append(i)\n",
    "        \n",
    "first_three_years = list(X.columns)    \n",
    "\n",
    "first_year, first_two_years, first_three_years\n",
    "len(first_three_years)"
   ]
  },
  {
   "cell_type": "markdown",
   "id": "24e2f37c",
   "metadata": {},
   "source": [
    "### Model 1"
   ]
  },
  {
   "cell_type": "markdown",
   "id": "50409d9a",
   "metadata": {},
   "source": [
    "#### DataFrame for Model 1"
   ]
  },
  {
   "cell_type": "code",
   "execution_count": null,
   "id": "39e37efd",
   "metadata": {},
   "outputs": [],
   "source": [
    "df1 = df[first_year + [\"CGPA\"]]\n",
    "x1 = df1.drop(\"CGPA\", axis=1)\n",
    "y1 = df1[['CGPA']]\n",
    "X_train1, X_test1, y_train1, y_test1 = train_test_split(x1, y1, test_size=0.2, random_state=0)"
   ]
  },
  {
   "cell_type": "markdown",
   "id": "deae56cb",
   "metadata": {},
   "source": [
    "#### Linear Regression"
   ]
  },
  {
   "cell_type": "code",
   "execution_count": null,
   "id": "6ddb7b77",
   "metadata": {},
   "outputs": [],
   "source": [
    "reg1 = linear_model.LinearRegression()\n",
    "reg1.fit(X_train1, y_train1)\n",
    "r1 = reg1.score(X_test1, y_test1)\n",
    "r1"
   ]
  },
  {
   "cell_type": "markdown",
   "id": "2c60872c",
   "metadata": {},
   "source": [
    "#### Gradient Boosting Regressor"
   ]
  },
  {
   "cell_type": "code",
   "execution_count": null,
   "id": "2a160961",
   "metadata": {},
   "outputs": [],
   "source": [
    "grad1 = GradientBoostingRegressor()\n",
    "grad1.fit(X_train1, y_train1)\n",
    "g1 = grad1.score(X_test1, y_test1)\n",
    "g1"
   ]
  },
  {
   "cell_type": "markdown",
   "id": "cb3ef596",
   "metadata": {},
   "source": [
    "### Model 2"
   ]
  },
  {
   "cell_type": "markdown",
   "id": "37d0a042",
   "metadata": {},
   "source": [
    "#### DataFrame for Model 2"
   ]
  },
  {
   "cell_type": "code",
   "execution_count": null,
   "id": "323a00d3",
   "metadata": {},
   "outputs": [],
   "source": [
    "df2 = df[first_two_years + [\"CGPA\"]]\n",
    "x2 = df2.drop(\"CGPA\", axis=1)\n",
    "y2 = df2[['CGPA']]\n",
    "X_train2, X_test2, y_train2, y_test2 = train_test_split(x2, y2, test_size=0.2, random_state=0)"
   ]
  },
  {
   "cell_type": "markdown",
   "id": "14d61cf4",
   "metadata": {},
   "source": [
    "#### Linear Regression"
   ]
  },
  {
   "cell_type": "code",
   "execution_count": null,
   "id": "bb95948d",
   "metadata": {},
   "outputs": [],
   "source": [
    "reg2 = linear_model.LinearRegression()\n",
    "reg2.fit(X_train2, y_train2)\n",
    "r2 = reg2.score(X_test2, y_test2)\n",
    "r2"
   ]
  },
  {
   "cell_type": "markdown",
   "id": "ce1b93fd",
   "metadata": {},
   "source": [
    "#### Gradient Boosting Regressor"
   ]
  },
  {
   "cell_type": "code",
   "execution_count": null,
   "id": "b33bac0f",
   "metadata": {},
   "outputs": [],
   "source": [
    "grad2 = GradientBoostingRegressor()\n",
    "grad2.fit(X_train2, y_train2)\n",
    "g2 = grad2.score(X_test2, y_test2)\n",
    "g2"
   ]
  },
  {
   "cell_type": "markdown",
   "id": "ff6bf464",
   "metadata": {},
   "source": [
    "### Model 3"
   ]
  },
  {
   "cell_type": "markdown",
   "id": "91fc8cf4",
   "metadata": {},
   "source": [
    "#### DataFrame for Model 3"
   ]
  },
  {
   "cell_type": "code",
   "execution_count": null,
   "id": "84243c1d",
   "metadata": {},
   "outputs": [],
   "source": [
    "df3 = df[columns]\n",
    "x3 = df3.drop(\"CGPA\", axis=1)\n",
    "y3 = df3[['CGPA']]\n",
    "X_train3, X_test3, y_train3, y_test3 = train_test_split(x3, y3, test_size=0.2, random_state=0)"
   ]
  },
  {
   "cell_type": "markdown",
   "id": "2edd5f16",
   "metadata": {},
   "source": [
    "#### Linear Regression"
   ]
  },
  {
   "cell_type": "code",
   "execution_count": null,
   "id": "19c26961",
   "metadata": {},
   "outputs": [],
   "source": [
    "reg3 = linear_model.LinearRegression()\n",
    "reg3.fit(X_train3, y_train3)\n",
    "r3 = reg3.score(X_test3, y_test3)\n",
    "r3"
   ]
  },
  {
   "cell_type": "markdown",
   "id": "8e625a23",
   "metadata": {},
   "source": [
    "#### Gradient Boosting Regressor"
   ]
  },
  {
   "cell_type": "code",
   "execution_count": null,
   "id": "a85e74a3",
   "metadata": {},
   "outputs": [],
   "source": [
    "grad3 = GradientBoostingRegressor()\n",
    "grad3.fit(X_train3, y_train3)\n",
    "g3 = grad3.score(X_test3, y_test3)\n",
    "g3"
   ]
  },
  {
   "cell_type": "markdown",
   "id": "c3f67e27",
   "metadata": {},
   "source": [
    "### Testing More Algorithms on these Models"
   ]
  },
  {
   "cell_type": "markdown",
   "id": "803ffbbd",
   "metadata": {},
   "source": [
    "### Model 1"
   ]
  },
  {
   "cell_type": "markdown",
   "id": "cb61fde0",
   "metadata": {},
   "source": [
    "#### Lasso Regression"
   ]
  },
  {
   "cell_type": "code",
   "execution_count": null,
   "id": "d1b1a0fb",
   "metadata": {
    "scrolled": true
   },
   "outputs": [],
   "source": [
    "lasso = linear_model.Lasso(alpha=0.1)\n",
    "lasso.fit(X_train1, y_train1)\n",
    "ls1 = lasso.score(X_test1, y_test1)\n",
    "ls1"
   ]
  },
  {
   "cell_type": "markdown",
   "id": "d6dafc21",
   "metadata": {},
   "source": [
    "#### Ridge Regression"
   ]
  },
  {
   "cell_type": "code",
   "execution_count": null,
   "id": "457dbc95",
   "metadata": {},
   "outputs": [],
   "source": [
    "ridge = linear_model.Ridge(alpha=0.1)\n",
    "ridge.fit(X_train1, y_train1)\n",
    "rg1 = ridge.score(X_test1, y_test1)\n",
    "rg1"
   ]
  },
  {
   "cell_type": "markdown",
   "id": "271d8a54",
   "metadata": {},
   "source": [
    "#### ElasticNet Regression"
   ]
  },
  {
   "cell_type": "code",
   "execution_count": null,
   "id": "45b3b737",
   "metadata": {},
   "outputs": [],
   "source": [
    "elasticnet = linear_model.ElasticNet(alpha=0.1)\n",
    "elasticnet.fit(X_train1, y_train1)\n",
    "en1 = elasticnet.score(X_test1, y_test1)\n",
    "en1"
   ]
  },
  {
   "cell_type": "markdown",
   "id": "be47b53a",
   "metadata": {},
   "source": [
    "### Model 3"
   ]
  },
  {
   "cell_type": "markdown",
   "id": "9e9086b3",
   "metadata": {},
   "source": [
    "#### Huber Regression"
   ]
  },
  {
   "cell_type": "code",
   "execution_count": null,
   "id": "c56c273b",
   "metadata": {},
   "outputs": [],
   "source": [
    "huber = linear_model.HuberRegressor()\n",
    "huber.fit(X_train3, y_train3)\n",
    "hb3 = huber.score(X_test3, y_test3)\n",
    "hb3"
   ]
  },
  {
   "cell_type": "markdown",
   "id": "18720d1b",
   "metadata": {},
   "source": [
    "#### Decision Tree Regressor"
   ]
  },
  {
   "cell_type": "code",
   "execution_count": null,
   "id": "1001af6f",
   "metadata": {},
   "outputs": [],
   "source": [
    "dtreg = DecisionTreeRegressor()\n",
    "dtreg.fit(X_train3, y_train3)\n",
    "dt3 = dtreg.score(X_test3, y_test3)\n",
    "dt3"
   ]
  },
  {
   "cell_type": "markdown",
   "id": "f6ae33ef",
   "metadata": {},
   "source": [
    "#### KNeighbours Regressor"
   ]
  },
  {
   "cell_type": "code",
   "execution_count": null,
   "id": "b59727ef",
   "metadata": {},
   "outputs": [],
   "source": [
    "knreg = KNeighborsRegressor()\n",
    "knreg.fit(X_train3, y_train3)\n",
    "kn3 = knreg.score(X_test3, y_test3)\n",
    "kn3"
   ]
  },
  {
   "cell_type": "markdown",
   "id": "ffff9732",
   "metadata": {},
   "source": [
    "## Model Evaluation"
   ]
  },
  {
   "cell_type": "code",
   "execution_count": null,
   "id": "24ff3503",
   "metadata": {
    "scrolled": true
   },
   "outputs": [],
   "source": [
    "# A snippet of code takes from sklearn official website in order to visulize model learning and crossvalidation curve\n",
    "# in order to test for overfitting\n",
    "\n",
    "def plot_learning_curve(\n",
    "    estimator,\n",
    "    title,\n",
    "    X,\n",
    "    y,\n",
    "    axes=None,\n",
    "    ylim=None,\n",
    "    cv=None,\n",
    "    n_jobs=None,\n",
    "    train_sizes=np.linspace(0.1, 1.0, 5),\n",
    "):\n",
    "    \"\"\"\n",
    "    Generate 3 plots: the test and training learning curve, the training\n",
    "    samples vs fit times curve, the fit times vs score curve.\n",
    "    \n",
    "    \"\"\"\n",
    "    if axes is None:\n",
    "        _, axes = plt.subplots(1, 3, figsize=(20, 5))\n",
    "\n",
    "    axes[0].set_title(title)\n",
    "    if ylim is not None:\n",
    "        axes[0].set_ylim(*ylim)\n",
    "    axes[0].set_xlabel(\"Training examples\")\n",
    "    axes[0].set_ylabel(\"Score\")\n",
    "\n",
    "    train_sizes, train_scores, test_scores, fit_times, _ = learning_curve(\n",
    "        estimator,\n",
    "        X,\n",
    "        y,\n",
    "        cv=cv,\n",
    "        n_jobs=n_jobs,\n",
    "        train_sizes=train_sizes,\n",
    "        return_times=True,\n",
    "    )\n",
    "    train_scores_mean = np.mean(train_scores, axis=1)\n",
    "    train_scores_std = np.std(train_scores, axis=1)\n",
    "    test_scores_mean = np.mean(test_scores, axis=1)\n",
    "    test_scores_std = np.std(test_scores, axis=1)\n",
    "    fit_times_mean = np.mean(fit_times, axis=1)\n",
    "    fit_times_std = np.std(fit_times, axis=1)\n",
    "\n",
    "    # Plot learning curve\n",
    "    axes[0].grid()\n",
    "    axes[0].fill_between(\n",
    "        train_sizes,\n",
    "        train_scores_mean - train_scores_std,\n",
    "        train_scores_mean + train_scores_std,\n",
    "        alpha=0.1,\n",
    "        color=\"r\",\n",
    "    )\n",
    "    axes[0].fill_between(\n",
    "        train_sizes,\n",
    "        test_scores_mean - test_scores_std,\n",
    "        test_scores_mean + test_scores_std,\n",
    "        alpha=0.1,\n",
    "        color=\"g\",\n",
    "    )\n",
    "    axes[0].plot(\n",
    "        train_sizes, train_scores_mean, \"o-\", color=\"r\", label=\"Training score\"\n",
    "    )\n",
    "    axes[0].plot(\n",
    "        train_sizes, test_scores_mean, \"o-\", color=\"g\", label=\"Cross-validation score\"\n",
    "    )\n",
    "    axes[0].legend(loc=\"best\")\n",
    "\n",
    "    # Plot n_samples vs fit_times\n",
    "    axes[1].grid()\n",
    "    axes[1].plot(train_sizes, fit_times_mean, \"o-\")\n",
    "    axes[1].fill_between(\n",
    "        train_sizes,\n",
    "        fit_times_mean - fit_times_std,\n",
    "        fit_times_mean + fit_times_std,\n",
    "        alpha=0.1,\n",
    "    )\n",
    "    axes[1].set_xlabel(\"Training examples\")\n",
    "    axes[1].set_ylabel(\"fit_times\")\n",
    "    axes[1].set_title(\"Scalability of the model\")\n",
    "\n",
    "    # Plot fit_time vs score\n",
    "    fit_time_argsort = fit_times_mean.argsort()\n",
    "    fit_time_sorted = fit_times_mean[fit_time_argsort]\n",
    "    test_scores_mean_sorted = test_scores_mean[fit_time_argsort]\n",
    "    test_scores_std_sorted = test_scores_std[fit_time_argsort]\n",
    "    axes[2].grid()\n",
    "    axes[2].plot(fit_time_sorted, test_scores_mean_sorted, \"o-\")\n",
    "    axes[2].fill_between(\n",
    "        fit_time_sorted,\n",
    "        test_scores_mean_sorted - test_scores_std_sorted,\n",
    "        test_scores_mean_sorted + test_scores_std_sorted,\n",
    "        alpha=0.1,\n",
    "    )\n",
    "    axes[2].set_xlabel(\"fit_times\")\n",
    "    axes[2].set_ylabel(\"Score\")\n",
    "    axes[2].set_title(\"Performance of the model\")\n",
    "\n",
    "    return plt"
   ]
  },
  {
   "cell_type": "code",
   "execution_count": null,
   "id": "185f31bf",
   "metadata": {},
   "outputs": [],
   "source": [
    "title = \"Learning Curve Linear Regression\"\n",
    "# Cross validation with 50 iterations to get smoother mean test and train\n",
    "# score curves, each time with 20% data randomly selected as a validation set.\n",
    "cv = ShuffleSplit(n_splits=50, test_size=0.2, random_state=0)\n",
    "\n",
    "estimator = linear_model.LinearRegression()\n",
    "\n",
    "plot_learning_curve(estimator, title, X, y, ylim=(0.7, 1.01), cv=cv, n_jobs=4)\n",
    "\n",
    "plt.show()"
   ]
  },
  {
   "cell_type": "code",
   "execution_count": null,
   "id": "1bb5f046",
   "metadata": {},
   "outputs": [],
   "source": [
    "title = \"Learning Curve Gradient Boosting Regressor\"\n",
    "# Cross validation with 50 iterations to get smoother mean test and train\n",
    "# score curves, each time with 20% data randomly selected as a validation set.\n",
    "cv = ShuffleSplit(n_splits=50, test_size=0.2, random_state=0)\n",
    "\n",
    "estimator = GradientBoostingRegressor()\n",
    "\n",
    "plot_learning_curve(estimator, title, X, y, ylim=(0.7, 1.01), cv=cv, n_jobs=4)\n",
    "\n",
    "plt.show()"
   ]
  },
  {
   "cell_type": "code",
   "execution_count": null,
   "id": "2cee7400",
   "metadata": {},
   "outputs": [],
   "source": [
    "x = ['LR1', 'LR2', 'LR3']\n",
    "y = [r1,r2,r3]\n",
    "\n",
    "plotdata = pd.DataFrame({\n",
    "\n",
    "    \"LR\":[r1,r2,r3],\n",
    "\n",
    "    \"GB\":[g1,g2,g3]},\n",
    "\n",
    "    index=[\"Model1\", \"Model2\", \"Model3\"])\n",
    "\n",
    "plotdata.plot(kind=\"bar\",figsize=(15, 8), color=[\"red\",\"green\"])\n",
    "plt.xlabel('Accuracy')\n",
    "plt.title('Accuracy Bar Plot')\n",
    "plt.show()"
   ]
  },
  {
   "cell_type": "code",
   "execution_count": null,
   "id": "596d0907",
   "metadata": {
    "scrolled": false
   },
   "outputs": [],
   "source": [
    "table = [[\"Models\", 1, 2, 3],[\"Linear Regression\",r1,r2,r3],[\"Gradient Boosting Regressor\",g1,g2,g3]]\n",
    "print(tabulate(table))"
   ]
  },
  {
   "cell_type": "markdown",
   "id": "f17e5da4",
   "metadata": {},
   "source": [
    "#### Finalizing Models\n",
    "Linear Regression for model1 \\\n",
    "Gradient Boosting Regressor for model2 and model3"
   ]
  },
  {
   "cell_type": "markdown",
   "id": "075c1c39",
   "metadata": {},
   "source": [
    "## Model Deployment"
   ]
  },
  {
   "cell_type": "code",
   "execution_count": null,
   "id": "10b78fc2",
   "metadata": {},
   "outputs": [],
   "source": [
    "prediction_input = pd.DataFrame()\n",
    "\n",
    "\n",
    "def display_menu(model, course_grades):    \n",
    "    columns = course_grades\n",
    "    def btn_eventhandler(obj):\n",
    "        global prediction_input\n",
    "        del prediction_input\n",
    "        grade_points = []\n",
    "        for i in course_grades:\n",
    "            grade_points.append(i.value)\n",
    "        prediction_input = pd.DataFrame([grade_points], columns=columns)\n",
    "        prediction_input = encode_data(prediction_input)\n",
    "        print(\"The predicted CGPA is:\", model.predict(prediction_input))\n",
    "\n",
    "\n",
    "    grades = ['A+', 'A', 'A-', 'B+', 'B', 'B-', 'C+', 'C', 'C-', 'D+', 'D', 'F', \"W\", \"WU\", \"I\"]\n",
    "\n",
    "    course_grades = []\n",
    "    for i in columns:\n",
    "        x = widgets.Dropdown(options=grades, description=i, value=None)\n",
    "        course_grades.append(x)\n",
    "\n",
    "    left_box, centre_box, right_box = [],[],[]\n",
    "\n",
    "    for i in range(ceil(len(course_grades)/3)):\n",
    "        left_box.append(course_grades[i*3])\n",
    "        if len(course_grades) > (i*3+1):\n",
    "            centre_box.append(course_grades[i*3+1])\n",
    "            if len(course_grades) > (i*3+2):\n",
    "                right_box.append(course_grades[i*3+2])\n",
    "    \n",
    "    print(\"Please select grades from the dropdown list for the respective courses, if the student has not opted for that specific course\\n then simply leave it\")\n",
    "    display(HBox([VBox(left_box), VBox(centre_box), VBox(right_box)]))\n",
    "    \n",
    "    btn = widgets.Button(description='Predict CGPA')\n",
    "    display(btn)\n",
    "\n",
    "    btn.on_click(btn_eventhandler)\n",
    "\n",
    "    \n",
    "print(\"=\"*124)\n",
    "print(\"\\t\\t\\t\\t\\t\\tWELCOME TO CGPA PREDICTOR\")\n",
    "print(\"=\"*124)\n",
    "print(\"\\t\\t\\tTHIS MODEL CAN PREDICT THE FINAL CGPA OF A STUDENT AT THE END OF FOURTH YEAR\\n \\t\\t\\t\\tGIVEN GPs OF THE COURSES OBTAINED IN FIRST THREE YEARS\")\n",
    "print(\"*\"*124)\n",
    "choice = int(input(\"Please select one of the following options:\\n\\\n",
    "    1. Predict CGPA based on GPs of First Year\\n\\\n",
    "    2. Predict CGPA based on GPs of First Two Years\\n\\\n",
    "    3. Predict CGPA based on GPs of First Three Years\\n\"))\n",
    "print(\"=\"*124)\n",
    "if choice == 1:\n",
    "    display_menu(reg1, first_year)\n",
    "elif choice == 2:\n",
    "    display_menu(grad2, first_two_years)\n",
    "elif choice == 3:\n",
    "    display_menu(grad3, first_three_years)\n",
    "else:\n",
    "    print(\"Please select valid choice\")    "
   ]
  },
  {
   "cell_type": "code",
   "execution_count": null,
   "id": "86ca4379",
   "metadata": {},
   "outputs": [],
   "source": []
  }
 ],
 "metadata": {
  "kernelspec": {
   "display_name": "Python 3 (ipykernel)",
   "language": "python",
   "name": "python3"
  },
  "language_info": {
   "codemirror_mode": {
    "name": "ipython",
    "version": 3
   },
   "file_extension": ".py",
   "mimetype": "text/x-python",
   "name": "python",
   "nbconvert_exporter": "python",
   "pygments_lexer": "ipython3",
   "version": "3.9.12"
  }
 },
 "nbformat": 4,
 "nbformat_minor": 5
}
